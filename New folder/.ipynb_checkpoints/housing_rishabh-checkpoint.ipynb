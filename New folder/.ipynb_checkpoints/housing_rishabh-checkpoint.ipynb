{
 "cells": [
  {
   "cell_type": "code",
   "execution_count": 2,
   "metadata": {},
   "outputs": [
    {
     "data": {
      "image/png": "[encoded data removed]",
      "text/plain": [
       "<Figure size 432x288 with 1 Axes>"
      ]
     },
     "metadata": {
      "needs_background": "light"
     },
     "output_type": "display_data"
    },
    {
     "name": "stdout",
     "output_type": "stream",
     "text": [
      "enter the size of house in square feet   1800\n",
      "the predicted value of the house is 12419794.648070153\n"
     ]
    }
   ],
   "source": [
    "import pandas as pd\n",
    "import numpy as np \n",
    "import matplotlib.pyplot as plt \n",
    "  \n",
    "def estimate_coef(x, y): \n",
    "    n = np.size(x) \n",
    "  \n",
    "    m_x, m_y = np.mean(x), np.mean(y) \n",
    "   \n",
    "    SS_xy = np.sum(y*x) - n*m_y*m_x \n",
    "    SS_xx = np.sum(x*x) - n*m_x*m_x \n",
    "  \n",
    "     \n",
    "    b_1 = SS_xy / SS_xx \n",
    "    b_0 = m_y - b_1*m_x \n",
    "  \n",
    "    return(b_0, b_1) \n",
    "  \n",
    "def plot_regression_line(x, y, b): \n",
    "    \n",
    "    plt.scatter(x, y, color = \"m\", \n",
    "               marker = \"o\", s = 30) \n",
    "  \n",
    "    \n",
    "    y_pred = b[0] + b[1]*x \n",
    "  \n",
    "    \n",
    "    f = plt.plot(x, y_pred, color = \"g\") \n",
    "    \n",
    "    plt.xlabel('x') \n",
    "    plt.ylabel('y') \n",
    "  \n",
    "    \n",
    "    plt.show() \n",
    "def main():\n",
    "    data = pd.read_csv(r\"C:\\Users\\DEVANSH\\Desktop\\data\\housing_data.csv\")\n",
    "    x = data[\"Size\"].values\n",
    "    y = data[\"Price\"].values\n",
    "    x = np.array(x) \n",
    "    y = np.array(y) \n",
    "    b = estimate_coef(x, y) \n",
    "    plot_regression_line(x, y, b) \n",
    "   \n",
    "    x = int(input(\"enter the size of house in square feet   \")) \n",
    "    y_pred = b[0] + b[1]*x \n",
    "    float(y_pred)\n",
    "    print(\"the predicted value of the house is {0}\" .format(y_pred * 40))\n",
    "\n",
    "if __name__ == \"__main__\":\n",
    "    main() \n",
    "    \n",
    "    "
   ]
  },
  {
   "cell_type": "code",
   "execution_count": null,
   "metadata": {
    "collapsed": true
   },
   "outputs": [],
   "source": []
  }
 ],
 "metadata": {
  "kernelspec": {
   "display_name": "Python 3",
   "language": "python",
   "name": "python3"
  },
  "language_info": {
   "codemirror_mode": {
    "name": "ipython",
    "version": 3
   },
   "file_extension": ".py",
   "mimetype": "text/x-python",
   "name": "python",
   "nbconvert_exporter": "python",
   "pygments_lexer": "ipython3",
   "version": "3.6.1"
  }
 },
 "nbformat": 4,
 "nbformat_minor": 2
}
